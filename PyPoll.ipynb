{
 "cells": [
  {
   "cell_type": "code",
   "execution_count": null,
   "id": "f9f919a6",
   "metadata": {},
   "outputs": [],
   "source": [
    "import csv #import csv\n",
    "import os #import operating system\n",
    "\n",
    "#bring in the election data csv. Again use pyPoll instead of ..\n",
    "file1=os.path.join(\"pyPoll\",\"Resources\",\"election_data.csv\")\n",
    "\n",
    "#open election data and read the first row which is header row\n",
    "with open(file1, newline=\"\") as csvfile:\n",
    "    csvreader=csv.reader(csvfile, delimiter=\",\")\n",
    "    csvheader=next(csvreader)\n",
    "    candidate_roster=[candidate[2] for candidate in csvreader]"
   ]
  },
  {
   "cell_type": "code",
   "execution_count": null,
   "id": "5d36d3b7",
   "metadata": {},
   "outputs": [],
   "source": [
    "vote_total=len(candidate_roster)"
   ]
  },
  {
   "cell_type": "code",
   "execution_count": null,
   "id": "d8b87e2d",
   "metadata": {},
   "outputs": [],
   "source": [
    "candidate_votes=[[candidate,candidate_roster.count(candidate)] for candidate in set(candidate_roster)]\n",
    "\n",
    "candidates_sorted=sorted(candidate_votes, key=lambda x:x[1], reverse=True)"
   ]
  },
  {
   "cell_type": "code",
   "execution_count": null,
   "id": "bac55847",
   "metadata": {},
   "outputs": [],
   "source": [
    "for candidate in candidates_sorted:\n",
    "    percentage=(candidate[1]/vote_total)*100\n",
    "    print(f'{candidate[0]}:{percentage:6.3f}%({candidate[1]})') #! "
   ]
  },
  {
   "cell_type": "code",
   "execution_count": null,
   "id": "8810e938",
   "metadata": {},
   "outputs": [],
   "source": [
    "print(\"--------------------------------------------\")\n",
    "print(\"The total of votes are \"+ str(vote_total))\n",
    "print(candidates_sorted)\n",
    "print(\"Above are the candidates who recieved votes\")\n",
    "for candidate in candidates_sorted:\n",
    "    percentage=(candidate[1]/vote_total)*100\n",
    "    print(f'{candidate[0]}: {percentage:6.3f}% ({candidate[1]}) Candidate info')\n",
    "print(f'{candidates_sorted[0][0]} is the winner')\n",
    "\n",
    "analysis_file=os.path.join(\"pyPoll\",\"Resources\",\"pyPoll_analysis.txt\")"
   ]
  },
  {
   "cell_type": "code",
   "execution_count": null,
   "id": "2b5c90ce",
   "metadata": {},
   "outputs": [],
   "source": [
    "with open(analysis_file, \"w\") as txtfile:\n",
    "    print(\"--------------------------------------------\", file=txtfile)\n",
    "    print(\"The total of votes are \"+ str(vote_total), file=txtfile)\n",
    "    print(candidates_sorted, file=txtfile)\n",
    "    print(\"Above are the candidates who recieved votes\", file=txtfile)\n",
    "    for candidate in candidates_sorted:\n",
    "        percentage=(candidate[1]/vote_total)*100\n",
    "        print(f'{candidate[0]}: {percentage:6.3f}% ({candidate[1]}) Candidate info', file=txtfile)\n",
    "    print(f'{candidates_sorted[0][0]} is the winner', file=txtfile)"
   ]
  }
 ],
 "metadata": {
  "kernelspec": {
   "display_name": "Python 3 (ipykernel)",
   "language": "python",
   "name": "python3"
  },
  "language_info": {
   "codemirror_mode": {
    "name": "ipython",
    "version": 3
   },
   "file_extension": ".py",
   "mimetype": "text/x-python",
   "name": "python",
   "nbconvert_exporter": "python",
   "pygments_lexer": "ipython3",
   "version": "3.10.9"
  }
 },
 "nbformat": 4,
 "nbformat_minor": 5
}
