{
 "cells": [
  {
   "cell_type": "code",
   "execution_count": null,
   "id": "e9b166f3",
   "metadata": {},
   "outputs": [],
   "source": [
    "import csv \n",
    "import os "
   ]
  },
  {
   "cell_type": "code",
   "execution_count": null,
   "id": "397c4760",
   "metadata": {},
   "outputs": [],
   "source": [
    "file1=os.path.join(\"pyBank\",\"Resources\",\"budgetdata.csv\")\n",
    "budget_data=[]"
   ]
  },
  {
   "cell_type": "code",
   "execution_count": null,
   "id": "b3da0ad1",
   "metadata": {},
   "outputs": [],
   "source": [
    "with open(file1) as csvfile:\n",
    "    reader=csv.DictReader(csvfile)\n",
    "    for row in reader:\n",
    "        budget_data.append({\"month\": row[\"Date\"], \"amount\": int(row[\"Profit/Losses\"]),\"change\": 0})"
   ]
  },
  {
   "cell_type": "code",
   "execution_count": null,
   "id": "6d8ba102",
   "metadata": {},
   "outputs": [],
   "source": [
    "total_months=len(budget_data)"
   ]
  },
  {
   "cell_type": "code",
   "execution_count": null,
   "id": "f906787d",
   "metadata": {},
   "outputs": [],
   "source": [
    "prev_amount=budget_data[0][\"amount\"]\n",
    "for i in range(total_months):\n",
    "    budget_data[i][\"change\"]=budget_data[i][\"amount\"] - prev_amount\n",
    "    prev_amount=budget_data[i][\"amount\"]"
   ]
  },
  {
   "cell_type": "code",
   "execution_count": null,
   "id": "7e3e367d",
   "metadata": {},
   "outputs": [],
   "source": [
    "total_amount=sum(row[\"amount\"] for row in budget_data)"
   ]
  },
  {
   "cell_type": "code",
   "execution_count": null,
   "id": "b75db302",
   "metadata": {},
   "outputs": [],
   "source": [
    "total_row_change=sum(row[\"change\"] for row in budget_data)\n",
    "average=round(total_row_change/(total_months-1),2)"
   ]
  },
  {
   "cell_type": "code",
   "execution_count": null,
   "id": "7d8af76e",
   "metadata": {},
   "outputs": [],
   "source": [
    "great_increase=max(budget_data, key=lambda x:x[\"change\"])\n",
    "great_decrease=min(budget_data,key=lambda x:x[\"change\"])"
   ]
  },
  {
   "cell_type": "code",
   "execution_count": null,
   "id": "42321051",
   "metadata": {},
   "outputs": [],
   "source": [
    "Final_Report=[(\"PyBank Analysis\"),\n",
    "(f'Total Months: {total_months}'),\n",
    "(f'Total: {total_amount}'),\n",
    "(f'Average Change: {average}'),\n",
    "(f'Greatest Increase in Profits: {great_increase[\"month\"]} ${great_increase[\"change\"]}'),\n",
    "(f'Greatest Decrease in Profits: {great_decrease[\"month\"]} ${great_decrease[\"change\"]}')]\n",
    "print(Final_Report)"
   ]
  },
  {
   "cell_type": "code",
   "execution_count": null,
   "id": "1f7b8503",
   "metadata": {},
   "outputs": [],
   "source": [
    "file2=os.path.join(\"pyBank\",\"Resources\",\"pyBank_analysis.txt\")\n",
    "\n",
    "with open(file2,\"w\") as textfile:\n",
    "    print(\"PyBank Analysis\",file=textfile)\n",
    "    print(\"----------------------\", file=textfile)\n",
    "    print(f'Total Months: {total_months}',file=textfile)\n",
    "    print(f'Total: {total_amount}',file=textfile)\n",
    "    print(f'Average Change: {average}',file=textfile)\n",
    "    print(f'Greatest Increase in Profits: {great_increase[\"month\"]} ${great_increase[\"change\"]}', file=textfile)\n",
    "    print(f'Greatest Decrease in Profits: {great_decrease[\"month\"]} ${great_decrease[\"change\"]}', file=textfile"
   ]
  }
 ],
 "metadata": {
  "kernelspec": {
   "display_name": "Python 3 (ipykernel)",
   "language": "python",
   "name": "python3"
  },
  "language_info": {
   "codemirror_mode": {
    "name": "ipython",
    "version": 3
   },
   "file_extension": ".py",
   "mimetype": "text/x-python",
   "name": "python",
   "nbconvert_exporter": "python",
   "pygments_lexer": "ipython3",
   "version": "3.10.9"
  }
 },
 "nbformat": 4,
 "nbformat_minor": 5
}
